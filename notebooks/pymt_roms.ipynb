{
 "cells": [
  {
   "cell_type": "markdown",
   "id": "persistent-worst",
   "metadata": {},
   "source": [
    "<img src=\"https://github.com/gantian127/pymt_roms/blob/master/docs/_static/logo.png?raw=true\" width='600' align='center'></a>"
   ]
  },
  {
   "cell_type": "markdown",
   "id": "c52b21de",
   "metadata": {},
   "source": [
    "## Basic Info\n",
    "<!-- This Jupyter Notebook was created by Tian Gan. You can run this Jupyter Notebook through [HydroShare](https://www.hydroshare.org/resource/5bed8401cfe04c38b0f84119b1999482/). -->\n",
    "\n",
    "If you have any suggestion to improve the current functions of the pymt_roms package, please create a github issue [here](https://github.com/gantian127/pymt_roms).\n",
    "\n",
    "Suggested citation: Gan, T. (2023). Jupyter Notebooks for the ROMS Data Component, HydroShare, https://www.hydroshare.org/resource/5bed8401cfe04c38b0f84119b1999482/ "
   ]
  },
  {
   "cell_type": "markdown",
   "id": "political-argentina",
   "metadata": {},
   "source": [
    "## Introduction"
   ]
  },
  {
   "cell_type": "markdown",
   "id": "increasing-cooper",
   "metadata": {},
   "source": [
    "[pymt_roms](https://github.com/gantian127/pymt_roms) is a package that uses the [bmi_roms](https://github.com/gantian127/bmi_roms) pacakge to convert [ROMS model](https://www.myroms.org/) datasets into a reusable, plug-and-play data component for PyMT modeling framework developed by Community Surface Dynamics Modeling System ([CSDMS](https://csdms.colorado.edu/wiki/Main_Page)). This allows ROMS datasets to be easily coupled with other datasets or models that expose a Basic Model Interface.\n",
    "\n",
    "The current implementation supports 2D, 3D and 4D ROMS output datasets defined with geospatial and/or time dimensions (e.g., dataset defined with dimensions as [time, s_rho, eta_rho, xi_rho])"
   ]
  },
  {
   "cell_type": "markdown",
   "id": "114f9870",
   "metadata": {},
   "source": [
    "### Install pymt"
   ]
  },
  {
   "cell_type": "markdown",
   "id": "9871b1e7",
   "metadata": {},
   "source": [
    "<!-- If you run this notebook on [HydroShare](https://www.hydroshare.org/resource/5bed8401cfe04c38b0f84119b1999482/), please skip this step. -->\n",
    "\n",
    "Please follow the [instructions](https://github.com/gantian127/pymt_roms/blob/master/README.rst) to create a separate environment and install pymt."
   ]
  },
  {
   "cell_type": "markdown",
   "id": "67cd149e",
   "metadata": {},
   "source": [
    "### Install pymt_roms"
   ]
  },
  {
   "cell_type": "markdown",
   "id": "excited-norway",
   "metadata": {},
   "source": [
    "use pip"
   ]
  },
  {
   "cell_type": "code",
   "execution_count": 1,
   "id": "powerful-staff",
   "metadata": {},
   "outputs": [],
   "source": [
    "# !pip install pymt_roms"
   ]
  },
  {
   "cell_type": "markdown",
   "id": "1f70390c",
   "metadata": {},
   "source": [
    "or conda"
   ]
  },
  {
   "cell_type": "code",
   "execution_count": 2,
   "id": "0186748f",
   "metadata": {},
   "outputs": [],
   "source": [
    "# !conda install -c conda-forge pymt_roms"
   ]
  },
  {
   "cell_type": "markdown",
   "id": "thermal-lodge",
   "metadata": {},
   "source": [
    "## Coding Examples"
   ]
  },
  {
   "cell_type": "markdown",
   "id": "3ffcc219",
   "metadata": {},
   "source": [
    "This section provides an example to demonstrate how to use the pymt_roms package to access and load the ROMS dataset for visualization."
   ]
  },
  {
   "cell_type": "markdown",
   "id": "nuclear-creativity",
   "metadata": {},
   "source": [
    "Import Roms class and instantiate it. A configuration file (yaml file) is required to provide the parameter settings. An example config_file.yaml file is provided in the same folder with this Jupyter Notebook. "
   ]
  },
  {
   "cell_type": "code",
   "execution_count": 3,
   "id": "secret-briefing",
   "metadata": {},
   "outputs": [],
   "source": [
    "import matplotlib.pyplot as plt\n",
    "import numpy as np\n",
    "\n",
    "from pymt.models import Roms\n",
    "\n",
    "# initiate a data component\n",
    "data_comp = Roms()\n",
    "data_comp.initialize('config_file.yaml')"
   ]
  },
  {
   "cell_type": "markdown",
   "id": "a41c5b17",
   "metadata": {},
   "source": [
    "If you check the content in the config_file.yaml, you will find that the parameter includes a file name to load the local ROMS model dataset. The example.nc file is provided in the same folder with this Jupyter Notebook. You can also set the \"filename\" value with an OPeNDAP Data URL to access remote dataset and donwload it by setting the \"download\" parameter as True. Please see more details [here](https://bmi-roms.readthedocs.io/en/latest/?badge=latest#parameters) for the parameter settings."
   ]
  },
  {
   "cell_type": "code",
   "execution_count": 4,
   "id": "43889844",
   "metadata": {},
   "outputs": [
    {
     "name": "stdout",
     "output_type": "stream",
     "text": [
      "bmi-roms:\r\n",
      "  filename: example.nc\r\n",
      "  download: False\r\n",
      "  "
     ]
    }
   ],
   "source": [
    "!cat config_file.yaml"
   ]
  },
  {
   "cell_type": "markdown",
   "id": "comic-shannon",
   "metadata": {},
   "source": [
    "Use variable related methods to check the variable information of the ROMS dataset."
   ]
  },
  {
   "cell_type": "code",
   "execution_count": 5,
   "id": "dedicated-receipt",
   "metadata": {},
   "outputs": [
    {
     "name": "stdout",
     "output_type": "stream",
     "text": [
      "variable_name: longitude of RHO-points \n",
      "var_unit: degrees_east \n",
      "var_location: node \n",
      "var_type: float64 \n",
      "var_grid: 0 \n",
      "var_itemsize: 8\n",
      "var_nbytes: 205216 \n",
      "\n",
      "variable_name: latitude of RHO-points \n",
      "var_unit: degrees_north \n",
      "var_location: node \n",
      "var_type: float64 \n",
      "var_grid: 0 \n",
      "var_itemsize: 8\n",
      "var_nbytes: 205216 \n",
      "\n",
      "variable_name: time-averaged free-surface \n",
      "var_unit: meter \n",
      "var_location: node \n",
      "var_type: float64 \n",
      "var_grid: 0 \n",
      "var_itemsize: 8\n",
      "var_nbytes: 205216 \n",
      "\n",
      "variable_name: time-averaged salinity \n",
      "var_unit: N/A \n",
      "var_location: node \n",
      "var_type: float64 \n",
      "var_grid: 1 \n",
      "var_itemsize: 8\n",
      "var_nbytes: 8208640 \n",
      "\n"
     ]
    }
   ],
   "source": [
    "# get variable info\n",
    "for var_name in data_comp.output_var_names:\n",
    "    var_unit = data_comp.var_units(var_name)\n",
    "    var_location = data_comp.var_location(var_name)\n",
    "    var_type = data_comp.var_type(var_name)\n",
    "    var_grid = data_comp.var_grid(var_name)\n",
    "    var_itemsize = data_comp.var_itemsize(var_name)\n",
    "    var_nbytes = data_comp.var_nbytes(var_name)\n",
    "\n",
    "    print('variable_name: {} \\nvar_unit: {} \\nvar_location: {} \\nvar_type: {} \\nvar_grid: {} \\nvar_itemsize: {}'\n",
    "        '\\nvar_nbytes: {} \\n'. format(var_name, var_unit, var_location, var_type, var_grid, var_itemsize, var_nbytes))"
   ]
  },
  {
   "cell_type": "markdown",
   "id": "14dc412a",
   "metadata": {},
   "source": [
    "Use time related methods to check the time information of the ROMS dataset. The time values are stored in a format which follows [CF convention](http://cfconventions.org/Data/cf-conventions/cf-conventions-1.8/cf-conventions.pdf)."
   ]
  },
  {
   "cell_type": "code",
   "execution_count": 6,
   "id": "980f3a9e",
   "metadata": {},
   "outputs": [
    {
     "name": "stdout",
     "output_type": "stream",
     "text": [
      "start_time: 47436.0 \n",
      "end_time: 47556.0 \n",
      "time_step: 24.0 \n",
      "time_units: hours since 2017-11-01 00:00:00.000 UTC \n",
      "time_steps: 6\n"
     ]
    }
   ],
   "source": [
    "# get time info\n",
    "start_time = data_comp.start_time\n",
    "end_time = data_comp.end_time\n",
    "time_step = data_comp.time_step\n",
    "time_units = data_comp.time_units\n",
    "time_steps = int((end_time - start_time)/time_step) + 1\n",
    "\n",
    "print('start_time: {} \\nend_time: {} \\ntime_step: {} \\ntime_units: {} \\ntime_steps: {}'.format(\n",
    "        start_time, end_time, time_step, time_units, time_steps))"
   ]
  },
  {
   "cell_type": "markdown",
   "id": "analyzed-norman",
   "metadata": {},
   "source": [
    "Use grid related methods to check the grid information of the ROMS dataset.  You will find out that the variables are defined on different grids."
   ]
  },
  {
   "cell_type": "code",
   "execution_count": 7,
   "id": "violent-michigan",
   "metadata": {},
   "outputs": [
    {
     "name": "stdout",
     "output_type": "stream",
     "text": [
      "var_name: longitude of RHO-points \n",
      "grid_id: 0 \n",
      "grid_type: rectilinear \n",
      "grid_rank: 2 \n",
      "grid_shape: [106 242] \n",
      "grid_spacing: [ 1.  1.] \n",
      "grid_origin: [ 0.  0.] \n",
      "\n",
      "var_name: latitude of RHO-points \n",
      "grid_id: 0 \n",
      "grid_type: rectilinear \n",
      "grid_rank: 2 \n",
      "grid_shape: [106 242] \n",
      "grid_spacing: [ 1.  1.] \n",
      "grid_origin: [ 0.  0.] \n",
      "\n",
      "var_name: time-averaged free-surface \n",
      "grid_id: 0 \n",
      "grid_type: rectilinear \n",
      "grid_rank: 2 \n",
      "grid_shape: [106 242] \n",
      "grid_spacing: [ 1.  1.] \n",
      "grid_origin: [ 0.  0.] \n",
      "\n",
      "var_name: time-averaged salinity \n",
      "grid_id: 1 \n",
      "grid_type: rectilinear \n",
      "grid_rank: 3 \n",
      "grid_shape: [ 40 106 242] \n",
      "grid_spacing: [ 1.  1.  1.] \n",
      "grid_origin: [ 0.  0.  0.] \n",
      "\n"
     ]
    }
   ],
   "source": [
    "# get variable grid info\n",
    "for var_name in data_comp.output_var_names:\n",
    "    grid_id = data_comp.var_grid(var_name)\n",
    "    grid_type = data_comp.grid_type(grid_id)\n",
    "    grid_rank = data_comp.grid_ndim(grid_id)\n",
    "    grid_shape = data_comp.grid_shape(grid_id)\n",
    "    grid_spacing = data_comp.grid_spacing(grid_id)\n",
    "    grid_origin = data_comp.grid_origin(grid_id)\n",
    "\n",
    "    print('var_name: {} \\ngrid_id: {} \\ngrid_type: {} \\ngrid_rank: {} \\ngrid_shape: {} \\ngrid_spacing: {} \\ngrid_origin: {} \\n'.format(\n",
    "        var_name, grid_id, grid_type, grid_rank, grid_shape, grid_spacing, grid_origin))"
   ]
  },
  {
   "cell_type": "markdown",
   "id": "monetary-exception",
   "metadata": {},
   "source": [
    "Use get_value( ) method to get the variable data as a numpy array. Please note that the default behavior of pymt components is to flatten data arrays. So make a new variable that restores the dimensionality of the data. \n",
    "\n",
    "The code below shows how to get the variable values for the 'time-averaged salinity' and make a contour plot. The latitude and longitude values can be obtained from the 'latitude of RHO-points' and 'longitude of RHO-points' variables."
   ]
  },
  {
   "cell_type": "code",
   "execution_count": 8,
   "id": "ideal-grave",
   "metadata": {},
   "outputs": [],
   "source": [
    "# get variable data\n",
    "data = data_comp.get_value('time-averaged salinity')\n",
    "data_3D = data.reshape([40, 106, 242]) \n",
    "\n",
    "# get lon and lat data\n",
    "lat = data_comp.get_value('latitude of RHO-points').reshape([106, 242])\n",
    "lon = data_comp.get_value('longitude of RHO-points').reshape([106, 242])"
   ]
  },
  {
   "cell_type": "code",
   "execution_count": 9,
   "id": "462f268d",
   "metadata": {},
   "outputs": [
    {
     "data": {
      "text/plain": [
       "Text(0.5, 1.0, 'ROMS model data of time-averaged salinity')"
      ]
     },
     "execution_count": 9,
     "metadata": {},
     "output_type": "execute_result"
    },
    {
     "data": {
      "image/png": "[encoded data removed]",
      "text/plain": [
       "<Figure size 1000x700 with 2 Axes>"
      ]
     },
     "metadata": {},
     "output_type": "display_data"
    }
   ],
   "source": [
    "# make a contour plot\n",
    "fig = plt.figure(figsize=(10,7))\n",
    "im = plt.contourf(lon, lat, data_3D[0], levels=36)\n",
    "fig.colorbar(im)\n",
    "plt.axis('equal')\n",
    "plt.xlabel('Longitude [degree_east]')\n",
    "plt.ylabel('Latitude [degree_north]')\n",
    "plt.title('ROMS model data of time-averaged salinity')\n"
   ]
  },
  {
   "cell_type": "markdown",
   "id": "going-discussion",
   "metadata": {},
   "source": [
    "Complete the example by finalizing the component. finalize( ) method performs tasks that take place after using the data component, such as deallocating memory and closing files."
   ]
  },
  {
   "cell_type": "code",
   "execution_count": 10,
   "id": "published-vault",
   "metadata": {},
   "outputs": [],
   "source": [
    "data_comp.finalize()"
   ]
  }
 ],
 "metadata": {
  "kernelspec": {
   "display_name": "Python 3 (ipykernel)",
   "language": "python",
   "name": "python3"
  },
  "language_info": {
   "codemirror_mode": {
    "name": "ipython",
    "version": 3
   },
   "file_extension": ".py",
   "mimetype": "text/x-python",
   "name": "python",
   "nbconvert_exporter": "python",
   "pygments_lexer": "ipython3",
   "version": "3.11.2"
  }
 },
 "nbformat": 4,
 "nbformat_minor": 5
}
